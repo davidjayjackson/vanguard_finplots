{
 "cells": [
  {
   "cell_type": "code",
   "execution_count": 1,
   "id": "94b796b6-b6de-40a9-b4a9-c373b4addc62",
   "metadata": {},
   "outputs": [],
   "source": [
    "import pandas as pd\n",
    "import matplotlib.pyplot as plt\n",
    "import seaborn as sns\n",
    "import duckdb\n",
    "\n",
    "from alpha_vantage.timeseries import TimeSeries\n",
    "# from sqlalchemy import create_engine\n",
    "ts = TimeSeries(key='35RWNNYNVVW23JS1', output_format='pandas')"
   ]
  },
  {
   "cell_type": "code",
   "execution_count": 5,
   "id": "b003da16-f9e6-48d1-aac2-71364ac1c735",
   "metadata": {},
   "outputs": [
    {
     "data": {
      "text/plain": [
       "Timestamp('2025-03-28 00:00:00')"
      ]
     },
     "execution_count": 5,
     "metadata": {},
     "output_type": "execute_result"
    }
   ],
   "source": [
    "ET, meta_data = ts.get_daily(symbol='ET', outputsize='full')\n",
    "# 🔹 Rename columns for clarity\n",
    "ET.columns = [\"Open\", \"High\", \"Low\", \"Close\", \"Volume\"]\n",
    "\n",
    "# 🔹 Convert index to datetime format\n",
    "ET.index = pd.to_datetime(ET.index)\n",
    "\n",
    "# 🔹 Convert index (date) into a regular column\n",
    "ET.reset_index(inplace=True)\n",
    "\n",
    "# Calculate 100-day moving average for Close price\n",
    "ET[\"100d_MA\"] = ET[\"Close\"].rolling(window=100).mean()\n",
    "\n",
    "# 🔹 Rename the date column\n",
    "ET.rename(columns={\"date\": \"Date\"}, inplace=True)\n",
    "ET['Date'].max()"
   ]
  },
  {
   "cell_type": "code",
   "execution_count": 6,
   "id": "7e63e6fc-ab1c-4c8a-aef8-f3be501b7980",
   "metadata": {},
   "outputs": [],
   "source": [
    "con = duckdb.connect(database='./vangaurd.duckdb', read_only=False)"
   ]
  },
  {
   "cell_type": "code",
   "execution_count": 7,
   "id": "8e03e2b3-90db-4136-b748-68ab2f9610e0",
   "metadata": {},
   "outputs": [
    {
     "data": {
      "text/plain": [
       "<duckdb.duckdb.DuckDBPyConnection at 0x7f03c321c730>"
      ]
     },
     "execution_count": 7,
     "metadata": {},
     "output_type": "execute_result"
    }
   ],
   "source": [
    "con.register('temp_df', ET)  # Register the DataFrame as a virtual table\n",
    "con.execute(\"DROP TABLE IF EXISTS ET\")\n",
    "con.execute(\"CREATE TABLE ET AS SELECT * FROM temp_df\")  # Create the table\n",
    "con.unregister('temp_df') #unregister the temp table.\n",
    "\n",
    "# con.close()"
   ]
  },
  {
   "cell_type": "markdown",
   "id": "a7158573-cfc7-4bcf-9009-9968725705b8",
   "metadata": {},
   "source": [
    "# BND\n"
   ]
  },
  {
   "cell_type": "code",
   "execution_count": 8,
   "id": "bfb8e88d-5e69-4377-9464-4a400c031f1a",
   "metadata": {},
   "outputs": [
    {
     "data": {
      "text/plain": [
       "Timestamp('2025-03-28 00:00:00')"
      ]
     },
     "execution_count": 8,
     "metadata": {},
     "output_type": "execute_result"
    }
   ],
   "source": [
    "BND, meta_data = ts.get_daily(symbol='BND', outputsize='full')\n",
    "# 🔹 Rename columns for clarity\n",
    "BND.columns = [\"Open\", \"High\", \"Low\", \"Close\", \"Volume\"]\n",
    "\n",
    "# 🔹 Convert index to datetime format\n",
    "BND.index = pd.to_datetime(BND.index)\n",
    "\n",
    "# 🔹 Convert index (date) into a regular column\n",
    "BND.reset_index(inplace=True)\n",
    "\n",
    "# Calculate 100-day moving average for Close price\n",
    "BND[\"100d_MA\"] = BND[\"Close\"].rolling(window=100).mean()\n",
    "\n",
    "# 🔹 Rename the date column\n",
    "BND.rename(columns={\"date\": \"Date\"}, inplace=True)\n",
    "BND['Date'].max()"
   ]
  },
  {
   "cell_type": "code",
   "execution_count": 9,
   "id": "d11417d7-f336-4cba-a90e-f3f05bc3d3fa",
   "metadata": {},
   "outputs": [
    {
     "data": {
      "text/plain": [
       "<duckdb.duckdb.DuckDBPyConnection at 0x7f03c321c730>"
      ]
     },
     "execution_count": 9,
     "metadata": {},
     "output_type": "execute_result"
    }
   ],
   "source": [
    "con.register('temp_df', BND)  # Register the DataFrame as a virtual table\n",
    "con.execute(\"DROP TABLE IF EXISTS BND\")\n",
    "con.execute(\"CREATE TABLE BND AS SELECT * FROM temp_df\")  # Create the table\n",
    "con.unregister('temp_df') #unregister the temp table.\n",
    "\n",
    "# con.close()"
   ]
  },
  {
   "cell_type": "markdown",
   "id": "c7ce5ac1-5668-4b9c-8b3f-cdd944a240a0",
   "metadata": {},
   "source": [
    "# VTI"
   ]
  },
  {
   "cell_type": "code",
   "execution_count": 10,
   "id": "87c61e02-024f-4b26-8e3f-a2196180c6f0",
   "metadata": {},
   "outputs": [
    {
     "data": {
      "text/plain": [
       "Timestamp('2025-03-28 00:00:00')"
      ]
     },
     "execution_count": 10,
     "metadata": {},
     "output_type": "execute_result"
    }
   ],
   "source": [
    "VTI, meta_data = ts.get_daily(symbol='VTI', outputsize='full')\n",
    "# 🔹 Rename columns for clarity\n",
    "VTI.columns = [\"Open\", \"High\", \"Low\", \"Close\", \"Volume\"]\n",
    "\n",
    "# 🔹 Convert index to datetime format\n",
    "VTI.index = pd.to_datetime(VTI.index)\n",
    "\n",
    "# 🔹 Convert index (date) into a regular column\n",
    "VTI.reset_index(inplace=True)\n",
    "\n",
    "# Calculate 100-day moving average for Close price\n",
    "VTI[\"100d_MA\"] = VTI[\"Close\"].rolling(window=100).mean()\n",
    "\n",
    "# 🔹 Rename the date column\n",
    "VTI.rename(columns={\"date\": \"Date\"}, inplace=True)\n",
    "VTI['Date'].max()"
   ]
  },
  {
   "cell_type": "code",
   "execution_count": 11,
   "id": "6ef16e63-bb40-4d7b-bf01-b92d31d2030f",
   "metadata": {},
   "outputs": [
    {
     "data": {
      "text/plain": [
       "<duckdb.duckdb.DuckDBPyConnection at 0x7f03c321c730>"
      ]
     },
     "execution_count": 11,
     "metadata": {},
     "output_type": "execute_result"
    }
   ],
   "source": [
    "con.register('temp_df', VTI)  # Register the DataFrame as a virtual table\n",
    "con.execute(\"DROP TABLE IF EXISTS VTI\")\n",
    "con.execute(\"CREATE TABLE VTI AS SELECT * FROM temp_df\")  # Create the table\n",
    "con.unregister('temp_df') #unregister the temp table.\n",
    "\n",
    "# con.close()"
   ]
  },
  {
   "cell_type": "markdown",
   "id": "697315ff-0cb7-4e96-8311-e3fbd780db52",
   "metadata": {},
   "source": [
    "# BNDX"
   ]
  },
  {
   "cell_type": "code",
   "execution_count": 13,
   "id": "168ec28e-db3c-462d-be8b-2b9fb8303bf1",
   "metadata": {},
   "outputs": [
    {
     "data": {
      "text/plain": [
       "Timestamp('2025-03-28 00:00:00')"
      ]
     },
     "execution_count": 13,
     "metadata": {},
     "output_type": "execute_result"
    }
   ],
   "source": [
    "BNDX, meta_data = ts.get_daily(symbol='BNDX', outputsize='full')\n",
    "# 🔹 Rename columns for clarity\n",
    "BNDX.columns = [\"Open\", \"High\", \"Low\", \"Close\", \"Volume\"]\n",
    "\n",
    "# 🔹 Convert index to datetime format\n",
    "BNDX.index = pd.to_datetime(BNDX.index)\n",
    "\n",
    "# 🔹 Convert index (date) into a regular column\n",
    "BNDX.reset_index(inplace=True)\n",
    "\n",
    "# Calculate 100-day moving average for Close price\n",
    "BNDX[\"100d_MA\"] = BNDX[\"Close\"].rolling(window=100).mean()\n",
    "\n",
    "# 🔹 Rename the date column\n",
    "BNDX.rename(columns={\"date\": \"Date\"}, inplace=True)\n",
    "BNDX['Date'].max()"
   ]
  },
  {
   "cell_type": "code",
   "execution_count": 14,
   "id": "7dac8dcf-0910-477b-a53f-66c7ff8e1d7f",
   "metadata": {},
   "outputs": [
    {
     "data": {
      "text/plain": [
       "<duckdb.duckdb.DuckDBPyConnection at 0x7f03c321c730>"
      ]
     },
     "execution_count": 14,
     "metadata": {},
     "output_type": "execute_result"
    }
   ],
   "source": [
    "con.register('temp_df', BNDX)  # Register the DataFrame as a virtual table\n",
    "con.execute(\"DROP TABLE IF EXISTS BNDX\")\n",
    "con.execute(\"CREATE TABLE BNDX AS SELECT * FROM temp_df\")  # Create the table\n",
    "con.unregister('temp_df') #unregister the temp table.\n",
    "\n",
    "# con.close()"
   ]
  },
  {
   "cell_type": "markdown",
   "id": "a31f7c49-db40-41d3-99ff-1ca016e08580",
   "metadata": {},
   "source": [
    "# VXUS"
   ]
  },
  {
   "cell_type": "code",
   "execution_count": 16,
   "id": "21f270ab-9f00-4bbe-8eaf-31b4e829020e",
   "metadata": {},
   "outputs": [
    {
     "data": {
      "text/plain": [
       "Timestamp('2025-03-28 00:00:00')"
      ]
     },
     "execution_count": 16,
     "metadata": {},
     "output_type": "execute_result"
    }
   ],
   "source": [
    "VXUS, meta_data = ts.get_daily(symbol='VXUS', outputsize='full')\n",
    "# 🔹 Rename columns for clarity\n",
    "VXUS.columns = [\"Open\", \"High\", \"Low\", \"Close\", \"Volume\"]\n",
    "\n",
    "# 🔹 Convert index to datetime format\n",
    "VXUS.index = pd.to_datetime(VXUS.index)\n",
    "\n",
    "# 🔹 Convert index (date) into a regular column\n",
    "VXUS.reset_index(inplace=True)\n",
    "\n",
    "# Calculate 100-day moving average for Close price\n",
    "VXUS[\"100d_MA\"] = VXUS[\"Close\"].rolling(window=100).mean()\n",
    "\n",
    "# 🔹 Rename the date column\n",
    "VXUS.rename(columns={\"date\": \"Date\"}, inplace=True)\n",
    "VXUS['Date'].max()"
   ]
  },
  {
   "cell_type": "code",
   "execution_count": 17,
   "id": "8a1e9143-dfe1-4054-b270-318102eec65d",
   "metadata": {},
   "outputs": [],
   "source": [
    "con.register('temp_df', VXUS)  # Register the DataFrame as a virtual table\n",
    "con.execute(\"DROP TABLE IF EXISTS VXUS\")\n",
    "con.execute(\"CREATE TABLE VXUS AS SELECT * FROM temp_df\")  # Create the table\n",
    "con.unregister('temp_df') #unregister the temp table.\n",
    "\n",
    "con.close()"
   ]
  },
  {
   "cell_type": "code",
   "execution_count": null,
   "id": "6297f090-b18b-4d03-a535-0ad92e104622",
   "metadata": {},
   "outputs": [],
   "source": []
  }
 ],
 "metadata": {
  "kernelspec": {
   "display_name": "Python 3 (ipykernel)",
   "language": "python",
   "name": "python3"
  },
  "language_info": {
   "codemirror_mode": {
    "name": "ipython",
    "version": 3
   },
   "file_extension": ".py",
   "mimetype": "text/x-python",
   "name": "python",
   "nbconvert_exporter": "python",
   "pygments_lexer": "ipython3",
   "version": "3.12.8"
  }
 },
 "nbformat": 4,
 "nbformat_minor": 5
}
