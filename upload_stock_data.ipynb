{
 "cells": [
  {
   "cell_type": "code",
   "execution_count": 1,
   "id": "94b796b6-b6de-40a9-b4a9-c373b4addc62",
   "metadata": {},
   "outputs": [],
   "source": [
    "import pandas as pd\n",
    "import matplotlib.pyplot as plt\n",
    "import seaborn as sns\n",
    "import duckdb\n",
    "\n",
    "from alpha_vantage.timeseries import TimeSeries\n",
    "# from sqlalchemy import create_engine\n",
    "ts = TimeSeries(key='<Put Your API Key Here>', output_format='pandas')"
   ]
  },
  {
   "cell_type": "code",
   "execution_count": 2,
   "id": "b003da16-f9e6-48d1-aac2-71364ac1c735",
   "metadata": {},
   "outputs": [
    {
     "data": {
      "text/plain": [
       "Timestamp('2025-03-27 00:00:00')"
      ]
     },
     "execution_count": 2,
     "metadata": {},
     "output_type": "execute_result"
    }
   ],
   "source": [
    "data, meta_data = ts.get_daily(symbol='ET', outputsize='full')\n",
    "# 🔹 Rename columns for clarity\n",
    "data.columns = [\"Open\", \"High\", \"Low\", \"Close\", \"Volume\"]\n",
    "\n",
    "# 🔹 Convert index to datetime format\n",
    "data.index = pd.to_datetime(data.index)\n",
    "\n",
    "# 🔹 Convert index (date) into a regular column\n",
    "data.reset_index(inplace=True)\n",
    "\n",
    "# Calculate 100-day moving average for Close price\n",
    "# data[\"100d_MA\"] = data[\"Close\"].rolling(window=100).mean()\n",
    "\n",
    "# 🔹 Rename the date column\n",
    "data.rename(columns={\"date\": \"Date\"}, inplace=True)\n",
    "data['Date'].max()"
   ]
  },
  {
   "cell_type": "code",
   "execution_count": 7,
   "id": "9fdafe98-2f20-4f03-9f5c-138b28d7d239",
   "metadata": {},
   "outputs": [
    {
     "data": {
      "text/html": [
       "<div>\n",
       "<style scoped>\n",
       "    .dataframe tbody tr th:only-of-type {\n",
       "        vertical-align: middle;\n",
       "    }\n",
       "\n",
       "    .dataframe tbody tr th {\n",
       "        vertical-align: top;\n",
       "    }\n",
       "\n",
       "    .dataframe thead th {\n",
       "        text-align: right;\n",
       "    }\n",
       "</style>\n",
       "<table border=\"1\" class=\"dataframe\">\n",
       "  <thead>\n",
       "    <tr style=\"text-align: right;\">\n",
       "      <th></th>\n",
       "      <th>Date</th>\n",
       "      <th>Open</th>\n",
       "      <th>High</th>\n",
       "      <th>Low</th>\n",
       "      <th>Close</th>\n",
       "      <th>Volume</th>\n",
       "    </tr>\n",
       "  </thead>\n",
       "  <tbody>\n",
       "    <tr>\n",
       "      <th>0</th>\n",
       "      <td>2025-03-27</td>\n",
       "      <td>18.900</td>\n",
       "      <td>19.04</td>\n",
       "      <td>18.7500</td>\n",
       "      <td>18.88</td>\n",
       "      <td>9860399.0</td>\n",
       "    </tr>\n",
       "    <tr>\n",
       "      <th>1</th>\n",
       "      <td>2025-03-26</td>\n",
       "      <td>18.900</td>\n",
       "      <td>19.12</td>\n",
       "      <td>18.8550</td>\n",
       "      <td>18.93</td>\n",
       "      <td>10413196.0</td>\n",
       "    </tr>\n",
       "    <tr>\n",
       "      <th>2</th>\n",
       "      <td>2025-03-25</td>\n",
       "      <td>18.870</td>\n",
       "      <td>19.13</td>\n",
       "      <td>18.8100</td>\n",
       "      <td>18.88</td>\n",
       "      <td>8733757.0</td>\n",
       "    </tr>\n",
       "    <tr>\n",
       "      <th>3</th>\n",
       "      <td>2025-03-24</td>\n",
       "      <td>18.805</td>\n",
       "      <td>19.11</td>\n",
       "      <td>18.7729</td>\n",
       "      <td>18.88</td>\n",
       "      <td>12855173.0</td>\n",
       "    </tr>\n",
       "    <tr>\n",
       "      <th>4</th>\n",
       "      <td>2025-03-21</td>\n",
       "      <td>18.820</td>\n",
       "      <td>18.82</td>\n",
       "      <td>18.4500</td>\n",
       "      <td>18.60</td>\n",
       "      <td>15140374.0</td>\n",
       "    </tr>\n",
       "  </tbody>\n",
       "</table>\n",
       "</div>"
      ],
      "text/plain": [
       "        Date    Open   High      Low  Close      Volume\n",
       "0 2025-03-27  18.900  19.04  18.7500  18.88   9860399.0\n",
       "1 2025-03-26  18.900  19.12  18.8550  18.93  10413196.0\n",
       "2 2025-03-25  18.870  19.13  18.8100  18.88   8733757.0\n",
       "3 2025-03-24  18.805  19.11  18.7729  18.88  12855173.0\n",
       "4 2025-03-21  18.820  18.82  18.4500  18.60  15140374.0"
      ]
     },
     "execution_count": 7,
     "metadata": {},
     "output_type": "execute_result"
    }
   ],
   "source": [
    "data.head(5)"
   ]
  },
  {
   "cell_type": "code",
   "execution_count": 13,
   "id": "7e63e6fc-ab1c-4c8a-aef8-f3be501b7980",
   "metadata": {},
   "outputs": [],
   "source": [
    "con = duckdb.connect(database='./vangaurd.duckdb', read_only=False)"
   ]
  },
  {
   "cell_type": "code",
   "execution_count": 16,
   "id": "8e03e2b3-90db-4136-b748-68ab2f9610e0",
   "metadata": {},
   "outputs": [
    {
     "data": {
      "text/plain": [
       "(datetime.datetime(2025, 3, 27, 0, 0),)"
      ]
     },
     "execution_count": 16,
     "metadata": {},
     "output_type": "execute_result"
    }
   ],
   "source": [
    "con.execute('DROP TABLE IF EXISTS stocks;')\n",
    "con.register('temp_df', data)  # Register the DataFrame as a virtual table\n",
    "con.execute(\"CREATE TABLE stocks AS SELECT * FROM temp_df\")  # Create the table\n",
    "con.unregister('temp_df') #unregister the temp table.\n",
    "\n",
    "con.execute('SELECT max(Date) as last_date from stocks;').fetchone()\n"
   ]
  },
  {
   "cell_type": "code",
   "execution_count": null,
   "id": "f332a326-69fd-4a53-89c4-6401a59ce446",
   "metadata": {},
   "outputs": [],
   "source": [
    "con.close()"
   ]
  }
 ],
 "metadata": {
  "kernelspec": {
   "display_name": "Python 3 (ipykernel)",
   "language": "python",
   "name": "python3"
  },
  "language_info": {
   "codemirror_mode": {
    "name": "ipython",
    "version": 3
   },
   "file_extension": ".py",
   "mimetype": "text/x-python",
   "name": "python",
   "nbconvert_exporter": "python",
   "pygments_lexer": "ipython3",
   "version": "3.12.3"
  }
 },
 "nbformat": 4,
 "nbformat_minor": 5
}
