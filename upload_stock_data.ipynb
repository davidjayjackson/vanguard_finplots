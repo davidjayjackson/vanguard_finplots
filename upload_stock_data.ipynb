{
 "cells": [
  {
   "cell_type": "code",
   "execution_count": null,
   "id": "94b796b6-b6de-40a9-b4a9-c373b4addc62",
   "metadata": {},
   "outputs": [],
   "source": [
    "import pandas as pd\n",
    "import matplotlib.pyplot as plt\n",
    "import seaborn as sns\n",
    "import duckdb\n",
    "\n",
    "from alpha_vantage.timeseries import TimeSeries\n",
    "# from sqlalchemy import create_engine\n",
    "ts = TimeSeries(key='<Put API Key Here>', output_format='pandas')"
   ]
  },
  {
   "cell_type": "code",
   "execution_count": null,
   "id": "b003da16-f9e6-48d1-aac2-71364ac1c735",
   "metadata": {},
   "outputs": [],
   "source": [
    "data, meta_data = ts.get_daily(symbol='ET', outputsize='full')\n",
    "# 🔹 Rename columns for clarity\n",
    "data.columns = [\"Open\", \"High\", \"Low\", \"Close\", \"Volume\"]\n",
    "\n",
    "# 🔹 Convert index to datetime format\n",
    "data.index = pd.to_datetime(data.index)\n",
    "\n",
    "# 🔹 Convert index (date) into a regular column\n",
    "data.reset_index(inplace=True)\n",
    "\n",
    "# Calculate 100-day moving average for Close price\n",
    "# data[\"100d_MA\"] = data[\"Close\"].rolling(window=100).mean()\n",
    "\n",
    "# 🔹 Rename the date column\n",
    "data.rename(columns={\"date\": \"Date\"}, inplace=True)\n",
    "data['Date'].max()"
   ]
  },
  {
   "cell_type": "code",
   "execution_count": null,
   "id": "9fdafe98-2f20-4f03-9f5c-138b28d7d239",
   "metadata": {},
   "outputs": [],
   "source": [
    "data.head()"
   ]
  },
  {
   "cell_type": "code",
   "execution_count": null,
   "id": "7e63e6fc-ab1c-4c8a-aef8-f3be501b7980",
   "metadata": {},
   "outputs": [],
   "source": [
    "con = duckdb.connect(database='./vangaurd.duckdb', read_only=False)"
   ]
  },
  {
   "cell_type": "code",
   "execution_count": null,
   "id": "8e03e2b3-90db-4136-b748-68ab2f9610e0",
   "metadata": {},
   "outputs": [],
   "source": [
    "con.register('temp_df', data)  # Register the DataFrame as a virtual table\n",
    "con.execute(\"CREATE TABLE stocks AS SELECT * FROM temp_df\")  # Create the table\n",
    "con.unregister('temp_df') #unregister the temp table.\n",
    "\n",
    "con.close()"
   ]
  }
 ],
 "metadata": {
  "kernelspec": {
   "display_name": "Python 3 (ipykernel)",
   "language": "python",
   "name": "python3"
  },
  "language_info": {
   "codemirror_mode": {
    "name": "ipython",
    "version": 3
   },
   "file_extension": ".py",
   "mimetype": "text/x-python",
   "name": "python",
   "nbconvert_exporter": "python",
   "pygments_lexer": "ipython3",
   "version": "3.12.8"
  }
 },
 "nbformat": 4,
 "nbformat_minor": 5
}
