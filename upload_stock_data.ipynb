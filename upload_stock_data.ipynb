{
 "cells": [
  {
   "cell_type": "code",
   "execution_count": null,
   "id": "94b796b6-b6de-40a9-b4a9-c373b4addc62",
   "metadata": {},
   "outputs": [],
   "source": [
    "import pandas as pd\n",
    "import matplotlib.pyplot as plt\n",
    "import seaborn as sns\n",
    "import duckdb\n",
    "\n",
    "from alpha_vantage.timeseries import TimeSeries\n",
    "# from sqlalchemy import create_engine\n",
    "ts = TimeSeries(key='35RWNNYNVVW23JS1', output_format='pandas')"
   ]
  },
  {
   "cell_type": "code",
   "execution_count": null,
   "id": "b003da16-f9e6-48d1-aac2-71364ac1c735",
   "metadata": {},
   "outputs": [],
   "source": [
    "ET, meta_data = ts.get_daily(symbol='ET', outputsize='full')\n",
    "# 🔹 Rename columns for clarity\n",
    "ET.columns = [\"Open\", \"High\", \"Low\", \"Close\", \"Volume\"]\n",
    "\n",
    "# 🔹 Convert index to datetime format\n",
    "ET.index = pd.to_datetime(ET.index)\n",
    "\n",
    "# 🔹 Convert index (date) into a regular column\n",
    "ET.reset_index(inplace=True)\n",
    "\n",
    "# Calculate 100-day moving average for Close price\n",
    "ET[\"100d_MA\"] = ET[\"Close\"].rolling(window=100).mean()\n",
    "\n",
    "# 🔹 Rename the date column\n",
    "ET.rename(columns={\"date\": \"Date\"}, inplace=True)\n",
    "ET['Date'].max()"
   ]
  },
  {
   "cell_type": "code",
   "execution_count": null,
   "id": "248fdd65-7b97-4798-8cff-4b208025330d",
   "metadata": {},
   "outputs": [],
   "source": [
    "\n",
    "# Calculate the moving average and standard deviation\n",
    "ET['bb_mean'] = ET['Close'].rolling(window=20).mean()  # 20-day SMA\n",
    "ET['bb_std'] = ET['Close'].rolling(window=20).std()   # 20-day standard deviation\n",
    "\n",
    "# Calculate the Bollinger Bands\n",
    "ET['bb_upper'] = ET['bb_mean'] + (ET['bb_std'] * 2)\n",
    "ET['bb_lower'] = ET['bb_mean'] - (ET['bb_std'] * 2)\n",
    "ET['Mean'] = ET['Close'].mean()\n",
    "ET['Median'] = ET['Close'].median()\n",
    "ET.head()"
   ]
  },
  {
   "cell_type": "code",
   "execution_count": null,
   "id": "7e63e6fc-ab1c-4c8a-aef8-f3be501b7980",
   "metadata": {},
   "outputs": [],
   "source": [
    "con = duckdb.connect(database='./vangaurd.duckdb', read_only=False)"
   ]
  },
  {
   "cell_type": "code",
   "execution_count": null,
   "id": "8e03e2b3-90db-4136-b748-68ab2f9610e0",
   "metadata": {},
   "outputs": [],
   "source": [
    "con.register('temp_df', ET)  # Register the DataFrame as a virtual table\n",
    "con.execute(\"DROP TABLE IF EXISTS ET\")\n",
    "con.execute(\"CREATE TABLE ET AS SELECT * FROM temp_df\")  # Create the table\n",
    "con.unregister('temp_df') #unregister the temp table.\n",
    "\n",
    "# con.close()"
   ]
  },
  {
   "cell_type": "markdown",
   "id": "a7158573-cfc7-4bcf-9009-9968725705b8",
   "metadata": {},
   "source": [
    "# BND\n"
   ]
  },
  {
   "cell_type": "code",
   "execution_count": null,
   "id": "bfb8e88d-5e69-4377-9464-4a400c031f1a",
   "metadata": {},
   "outputs": [],
   "source": [
    "BND, meta_data = ts.get_daily(symbol='BND', outputsize='full')\n",
    "# 🔹 Rename columns for clarity\n",
    "BND.columns = [\"Open\", \"High\", \"Low\", \"Close\", \"Volume\"]\n",
    "\n",
    "# 🔹 Convert index to datetime format\n",
    "BND.index = pd.to_datetime(BND.index)\n",
    "\n",
    "# 🔹 Convert index (date) into a regular column\n",
    "BND.reset_index(inplace=True)\n",
    "\n",
    "# Calculate 100-day moving average for Close price\n",
    "BND[\"100d_MA\"] = BND[\"Close\"].rolling(window=100).mean()\n",
    "\n",
    "# 🔹 Rename the date column\n",
    "BND.rename(columns={\"date\": \"Date\"}, inplace=True)\n",
    "BND['Date'].max()"
   ]
  },
  {
   "cell_type": "code",
   "execution_count": 15,
   "id": "63622d0a-c377-4d5f-9617-26042a6e5cef",
   "metadata": {},
   "outputs": [
    {
     "data": {
      "text/html": [
       "<div>\n",
       "<style scoped>\n",
       "    .dataframe tbody tr th:only-of-type {\n",
       "        vertical-align: middle;\n",
       "    }\n",
       "\n",
       "    .dataframe tbody tr th {\n",
       "        vertical-align: top;\n",
       "    }\n",
       "\n",
       "    .dataframe thead th {\n",
       "        text-align: right;\n",
       "    }\n",
       "</style>\n",
       "<table border=\"1\" class=\"dataframe\">\n",
       "  <thead>\n",
       "    <tr style=\"text-align: right;\">\n",
       "      <th></th>\n",
       "      <th>Date</th>\n",
       "      <th>Open</th>\n",
       "      <th>High</th>\n",
       "      <th>Low</th>\n",
       "      <th>Close</th>\n",
       "      <th>Volume</th>\n",
       "      <th>100d_MA</th>\n",
       "      <th>bb_mean</th>\n",
       "      <th>bb_std</th>\n",
       "      <th>bb_upper</th>\n",
       "      <th>bb_lower</th>\n",
       "      <th>Mean</th>\n",
       "      <th>Median</th>\n",
       "    </tr>\n",
       "  </thead>\n",
       "  <tbody>\n",
       "    <tr>\n",
       "      <th>0</th>\n",
       "      <td>2025-03-28</td>\n",
       "      <td>73.16</td>\n",
       "      <td>73.3500</td>\n",
       "      <td>73.07</td>\n",
       "      <td>73.32</td>\n",
       "      <td>4850495.0</td>\n",
       "      <td>NaN</td>\n",
       "      <td>NaN</td>\n",
       "      <td>NaN</td>\n",
       "      <td>NaN</td>\n",
       "      <td>NaN</td>\n",
       "      <td>80.095279</td>\n",
       "      <td>81.05</td>\n",
       "    </tr>\n",
       "    <tr>\n",
       "      <th>1</th>\n",
       "      <td>2025-03-27</td>\n",
       "      <td>72.88</td>\n",
       "      <td>72.9200</td>\n",
       "      <td>72.82</td>\n",
       "      <td>72.90</td>\n",
       "      <td>5568322.0</td>\n",
       "      <td>NaN</td>\n",
       "      <td>NaN</td>\n",
       "      <td>NaN</td>\n",
       "      <td>NaN</td>\n",
       "      <td>NaN</td>\n",
       "      <td>80.095279</td>\n",
       "      <td>81.05</td>\n",
       "    </tr>\n",
       "    <tr>\n",
       "      <th>2</th>\n",
       "      <td>2025-03-26</td>\n",
       "      <td>73.02</td>\n",
       "      <td>73.0591</td>\n",
       "      <td>72.89</td>\n",
       "      <td>72.93</td>\n",
       "      <td>4881976.0</td>\n",
       "      <td>NaN</td>\n",
       "      <td>NaN</td>\n",
       "      <td>NaN</td>\n",
       "      <td>NaN</td>\n",
       "      <td>NaN</td>\n",
       "      <td>80.095279</td>\n",
       "      <td>81.05</td>\n",
       "    </tr>\n",
       "    <tr>\n",
       "      <th>3</th>\n",
       "      <td>2025-03-25</td>\n",
       "      <td>73.00</td>\n",
       "      <td>73.1699</td>\n",
       "      <td>72.99</td>\n",
       "      <td>73.09</td>\n",
       "      <td>6133739.0</td>\n",
       "      <td>NaN</td>\n",
       "      <td>NaN</td>\n",
       "      <td>NaN</td>\n",
       "      <td>NaN</td>\n",
       "      <td>NaN</td>\n",
       "      <td>80.095279</td>\n",
       "      <td>81.05</td>\n",
       "    </tr>\n",
       "    <tr>\n",
       "      <th>4</th>\n",
       "      <td>2025-03-24</td>\n",
       "      <td>73.19</td>\n",
       "      <td>73.2200</td>\n",
       "      <td>72.98</td>\n",
       "      <td>73.00</td>\n",
       "      <td>5637341.0</td>\n",
       "      <td>NaN</td>\n",
       "      <td>NaN</td>\n",
       "      <td>NaN</td>\n",
       "      <td>NaN</td>\n",
       "      <td>NaN</td>\n",
       "      <td>80.095279</td>\n",
       "      <td>81.05</td>\n",
       "    </tr>\n",
       "  </tbody>\n",
       "</table>\n",
       "</div>"
      ],
      "text/plain": [
       "        Date   Open     High    Low  Close     Volume  100d_MA  bb_mean  \\\n",
       "0 2025-03-28  73.16  73.3500  73.07  73.32  4850495.0      NaN      NaN   \n",
       "1 2025-03-27  72.88  72.9200  72.82  72.90  5568322.0      NaN      NaN   \n",
       "2 2025-03-26  73.02  73.0591  72.89  72.93  4881976.0      NaN      NaN   \n",
       "3 2025-03-25  73.00  73.1699  72.99  73.09  6133739.0      NaN      NaN   \n",
       "4 2025-03-24  73.19  73.2200  72.98  73.00  5637341.0      NaN      NaN   \n",
       "\n",
       "   bb_std  bb_upper  bb_lower       Mean  Median  \n",
       "0     NaN       NaN       NaN  80.095279   81.05  \n",
       "1     NaN       NaN       NaN  80.095279   81.05  \n",
       "2     NaN       NaN       NaN  80.095279   81.05  \n",
       "3     NaN       NaN       NaN  80.095279   81.05  \n",
       "4     NaN       NaN       NaN  80.095279   81.05  "
      ]
     },
     "execution_count": 15,
     "metadata": {},
     "output_type": "execute_result"
    }
   ],
   "source": [
    "\n",
    "# Calculate the moving average and standard deviation\n",
    "BND['bb_mean'] =BND['Close'].rolling(window=20).mean()  # 20-day SMA\n",
    "BND['bb_std'] =BND['Close'].rolling(window=20).std()   # 20-day standard deviation\n",
    "\n",
    "# Calculate the Bollinger Bands\n",
    "BND['bb_upper'] = BND['bb_mean'] + (BND['bb_std'] * 2)\n",
    "BND['bb_lower'] = BND['bb_mean'] - (BND['bb_std'] * 2)\n",
    "BND['Mean'] = BND['Close'].mean()\n",
    "BND['Median'] = BND['Close'].median()\n",
    "BND.head()"
   ]
  },
  {
   "cell_type": "code",
   "execution_count": 16,
   "id": "d11417d7-f336-4cba-a90e-f3f05bc3d3fa",
   "metadata": {},
   "outputs": [
    {
     "data": {
      "text/plain": [
       "<duckdb.duckdb.DuckDBPyConnection at 0x7f58015def70>"
      ]
     },
     "execution_count": 16,
     "metadata": {},
     "output_type": "execute_result"
    }
   ],
   "source": [
    "con.register('temp_df', BND)  # Register the DataFrame as a virtual table\n",
    "con.execute(\"DROP TABLE IF EXISTS BND\")\n",
    "con.execute(\"CREATE TABLE BND AS SELECT * FROM temp_df\")  # Create the table\n",
    "con.unregister('temp_df') #unregister the temp table.\n",
    "\n",
    "# con.close()"
   ]
  },
  {
   "cell_type": "markdown",
   "id": "c7ce5ac1-5668-4b9c-8b3f-cdd944a240a0",
   "metadata": {},
   "source": [
    "# VTI"
   ]
  },
  {
   "cell_type": "code",
   "execution_count": 17,
   "id": "87c61e02-024f-4b26-8e3f-a2196180c6f0",
   "metadata": {},
   "outputs": [
    {
     "data": {
      "text/plain": [
       "Timestamp('2025-03-28 00:00:00')"
      ]
     },
     "execution_count": 17,
     "metadata": {},
     "output_type": "execute_result"
    }
   ],
   "source": [
    "VTI, meta_data = ts.get_daily(symbol='VTI', outputsize='full')\n",
    "# 🔹 Rename columns for clarity\n",
    "VTI.columns = [\"Open\", \"High\", \"Low\", \"Close\", \"Volume\"]\n",
    "\n",
    "# 🔹 Convert index to datetime format\n",
    "VTI.index = pd.to_datetime(VTI.index)\n",
    "\n",
    "# 🔹 Convert index (date) into a regular column\n",
    "VTI.reset_index(inplace=True)\n",
    "\n",
    "# Calculate 100-day moving average for Close price\n",
    "VTI[\"100d_MA\"] = VTI[\"Close\"].rolling(window=100).mean()\n",
    "\n",
    "# 🔹 Rename the date column\n",
    "VTI.rename(columns={\"date\": \"Date\"}, inplace=True)\n",
    "VTI['Date'].max()"
   ]
  },
  {
   "cell_type": "code",
   "execution_count": 21,
   "id": "1ae4776e-fc92-4d95-a8db-6d4e2860e792",
   "metadata": {},
   "outputs": [
    {
     "data": {
      "text/html": [
       "<div>\n",
       "<style scoped>\n",
       "    .dataframe tbody tr th:only-of-type {\n",
       "        vertical-align: middle;\n",
       "    }\n",
       "\n",
       "    .dataframe tbody tr th {\n",
       "        vertical-align: top;\n",
       "    }\n",
       "\n",
       "    .dataframe thead th {\n",
       "        text-align: right;\n",
       "    }\n",
       "</style>\n",
       "<table border=\"1\" class=\"dataframe\">\n",
       "  <thead>\n",
       "    <tr style=\"text-align: right;\">\n",
       "      <th></th>\n",
       "      <th>Date</th>\n",
       "      <th>Open</th>\n",
       "      <th>High</th>\n",
       "      <th>Low</th>\n",
       "      <th>Close</th>\n",
       "      <th>Volume</th>\n",
       "      <th>100d_MA</th>\n",
       "      <th>bb_mean</th>\n",
       "      <th>bb_std</th>\n",
       "      <th>bb_upper</th>\n",
       "      <th>bb_lower</th>\n",
       "      <th>Mean</th>\n",
       "      <th>Median</th>\n",
       "    </tr>\n",
       "  </thead>\n",
       "  <tbody>\n",
       "    <tr>\n",
       "      <th>0</th>\n",
       "      <td>2025-03-28</td>\n",
       "      <td>278.31</td>\n",
       "      <td>278.75</td>\n",
       "      <td>273.05</td>\n",
       "      <td>273.43</td>\n",
       "      <td>3912899.0</td>\n",
       "      <td>NaN</td>\n",
       "      <td>NaN</td>\n",
       "      <td>NaN</td>\n",
       "      <td>NaN</td>\n",
       "      <td>NaN</td>\n",
       "      <td>127.55734</td>\n",
       "      <td>113.3</td>\n",
       "    </tr>\n",
       "    <tr>\n",
       "      <th>1</th>\n",
       "      <td>2025-03-27</td>\n",
       "      <td>279.46</td>\n",
       "      <td>281.08</td>\n",
       "      <td>278.05</td>\n",
       "      <td>278.99</td>\n",
       "      <td>2345342.0</td>\n",
       "      <td>NaN</td>\n",
       "      <td>NaN</td>\n",
       "      <td>NaN</td>\n",
       "      <td>NaN</td>\n",
       "      <td>NaN</td>\n",
       "      <td>127.55734</td>\n",
       "      <td>113.3</td>\n",
       "    </tr>\n",
       "    <tr>\n",
       "      <th>2</th>\n",
       "      <td>2025-03-26</td>\n",
       "      <td>284.15</td>\n",
       "      <td>284.92</td>\n",
       "      <td>280.31</td>\n",
       "      <td>281.16</td>\n",
       "      <td>2473462.0</td>\n",
       "      <td>NaN</td>\n",
       "      <td>NaN</td>\n",
       "      <td>NaN</td>\n",
       "      <td>NaN</td>\n",
       "      <td>NaN</td>\n",
       "      <td>127.55734</td>\n",
       "      <td>113.3</td>\n",
       "    </tr>\n",
       "    <tr>\n",
       "      <th>3</th>\n",
       "      <td>2025-03-25</td>\n",
       "      <td>284.52</td>\n",
       "      <td>285.09</td>\n",
       "      <td>283.66</td>\n",
       "      <td>284.49</td>\n",
       "      <td>2517248.0</td>\n",
       "      <td>NaN</td>\n",
       "      <td>NaN</td>\n",
       "      <td>NaN</td>\n",
       "      <td>NaN</td>\n",
       "      <td>NaN</td>\n",
       "      <td>127.55734</td>\n",
       "      <td>113.3</td>\n",
       "    </tr>\n",
       "    <tr>\n",
       "      <th>4</th>\n",
       "      <td>2025-03-24</td>\n",
       "      <td>282.25</td>\n",
       "      <td>284.53</td>\n",
       "      <td>281.90</td>\n",
       "      <td>284.01</td>\n",
       "      <td>3251647.0</td>\n",
       "      <td>NaN</td>\n",
       "      <td>NaN</td>\n",
       "      <td>NaN</td>\n",
       "      <td>NaN</td>\n",
       "      <td>NaN</td>\n",
       "      <td>127.55734</td>\n",
       "      <td>113.3</td>\n",
       "    </tr>\n",
       "  </tbody>\n",
       "</table>\n",
       "</div>"
      ],
      "text/plain": [
       "        Date    Open    High     Low   Close     Volume  100d_MA  bb_mean  \\\n",
       "0 2025-03-28  278.31  278.75  273.05  273.43  3912899.0      NaN      NaN   \n",
       "1 2025-03-27  279.46  281.08  278.05  278.99  2345342.0      NaN      NaN   \n",
       "2 2025-03-26  284.15  284.92  280.31  281.16  2473462.0      NaN      NaN   \n",
       "3 2025-03-25  284.52  285.09  283.66  284.49  2517248.0      NaN      NaN   \n",
       "4 2025-03-24  282.25  284.53  281.90  284.01  3251647.0      NaN      NaN   \n",
       "\n",
       "   bb_std  bb_upper  bb_lower       Mean  Median  \n",
       "0     NaN       NaN       NaN  127.55734   113.3  \n",
       "1     NaN       NaN       NaN  127.55734   113.3  \n",
       "2     NaN       NaN       NaN  127.55734   113.3  \n",
       "3     NaN       NaN       NaN  127.55734   113.3  \n",
       "4     NaN       NaN       NaN  127.55734   113.3  "
      ]
     },
     "execution_count": 21,
     "metadata": {},
     "output_type": "execute_result"
    }
   ],
   "source": [
    "\n",
    "# Calculate the moving average and standard deviation\n",
    "VTI['bb_mean'] = VTI['Close'].rolling(window=20).mean()  # 20-day SMA\n",
    "VTI['bb_std'] = VTI['Close'].rolling(window=20).std()   # 20-day standard deviation\n",
    "\n",
    "# Calculate the Bollinger Bands\n",
    "VTI['bb_upper'] = VTI['bb_mean'] + (VTI['bb_std'] * 2)\n",
    "VTI['bb_lower'] = VTI['bb_mean'] - (VTI['bb_std'] * 2)\n",
    "VTI['Mean'] = VTI['Close'].mean()\n",
    "VTI['Median'] = VTI['Close'].median()\n",
    "VTI.head()"
   ]
  },
  {
   "cell_type": "code",
   "execution_count": 22,
   "id": "6ef16e63-bb40-4d7b-bf01-b92d31d2030f",
   "metadata": {},
   "outputs": [
    {
     "data": {
      "text/plain": [
       "<duckdb.duckdb.DuckDBPyConnection at 0x7f58015def70>"
      ]
     },
     "execution_count": 22,
     "metadata": {},
     "output_type": "execute_result"
    }
   ],
   "source": [
    "con.register('temp_df', VTI)  # Register the DataFrame as a virtual table\n",
    "con.execute(\"DROP TABLE IF EXISTS VTI\")\n",
    "con.execute(\"CREATE TABLE VTI AS SELECT * FROM temp_df\")  # Create the table\n",
    "con.unregister('temp_df') #unregister the temp table.\n",
    "\n",
    "# con.close()"
   ]
  },
  {
   "cell_type": "markdown",
   "id": "697315ff-0cb7-4e96-8311-e3fbd780db52",
   "metadata": {},
   "source": [
    "# BNDX"
   ]
  },
  {
   "cell_type": "code",
   "execution_count": null,
   "id": "168ec28e-db3c-462d-be8b-2b9fb8303bf1",
   "metadata": {},
   "outputs": [],
   "source": [
    "BNDX, meta_data = ts.get_daily(symbol='BNDX', outputsize='full')\n",
    "# 🔹 Rename columns for clarity\n",
    "BNDX.columns = [\"Open\", \"High\", \"Low\", \"Close\", \"Volume\"]\n",
    "\n",
    "# 🔹 Convert index to datetime format\n",
    "BNDX.index = pd.to_datetime(BNDX.index)\n",
    "\n",
    "# 🔹 Convert index (date) into a regular column\n",
    "BNDX.reset_index(inplace=True)\n",
    "\n",
    "# Calculate 100-day moving average for Close price\n",
    "BNDX[\"100d_MA\"] = BNDX[\"Close\"].rolling(window=100).mean()\n",
    "\n",
    "# 🔹 Rename the date column\n",
    "BNDX.rename(columns={\"date\": \"Date\"}, inplace=True)\n",
    "BNDX['Date'].max()"
   ]
  },
  {
   "cell_type": "code",
   "execution_count": null,
   "id": "7dac8dcf-0910-477b-a53f-66c7ff8e1d7f",
   "metadata": {},
   "outputs": [],
   "source": [
    "con.register('temp_df', BNDX)  # Register the DataFrame as a virtual table\n",
    "con.execute(\"DROP TABLE IF EXISTS BNDX\")\n",
    "con.execute(\"CREATE TABLE BNDX AS SELECT * FROM temp_df\")  # Create the table\n",
    "con.unregister('temp_df') #unregister the temp table.\n",
    "\n",
    "# con.close()"
   ]
  },
  {
   "cell_type": "markdown",
   "id": "a31f7c49-db40-41d3-99ff-1ca016e08580",
   "metadata": {},
   "source": [
    "# VXUS"
   ]
  },
  {
   "cell_type": "code",
   "execution_count": null,
   "id": "21f270ab-9f00-4bbe-8eaf-31b4e829020e",
   "metadata": {},
   "outputs": [],
   "source": [
    "VXUS, meta_data = ts.get_daily(symbol='VXUS', outputsize='full')\n",
    "# 🔹 Rename columns for clarity\n",
    "VXUS.columns = [\"Open\", \"High\", \"Low\", \"Close\", \"Volume\"]\n",
    "\n",
    "# 🔹 Convert index to datetime format\n",
    "VXUS.index = pd.to_datetime(VXUS.index)\n",
    "\n",
    "# 🔹 Convert index (date) into a regular column\n",
    "VXUS.reset_index(inplace=True)\n",
    "\n",
    "# Calculate 100-day moving average for Close price\n",
    "VXUS[\"100d_MA\"] = VXUS[\"Close\"].rolling(window=100).mean()\n",
    "\n",
    "# 🔹 Rename the date column\n",
    "VXUS.rename(columns={\"date\": \"Date\"}, inplace=True)\n",
    "VXUS['Date'].max()"
   ]
  },
  {
   "cell_type": "code",
   "execution_count": null,
   "id": "8a1e9143-dfe1-4054-b270-318102eec65d",
   "metadata": {},
   "outputs": [],
   "source": [
    "con.register('temp_df', VXUS)  # Register the DataFrame as a virtual table\n",
    "con.execute(\"DROP TABLE IF EXISTS VXUS\")\n",
    "con.execute(\"CREATE TABLE VXUS AS SELECT * FROM temp_df\")  # Create the table\n",
    "con.unregister('temp_df') #unregister the temp table.\n",
    "\n",
    "con.close()"
   ]
  },
  {
   "cell_type": "code",
   "execution_count": null,
   "id": "6297f090-b18b-4d03-a535-0ad92e104622",
   "metadata": {},
   "outputs": [],
   "source": []
  }
 ],
 "metadata": {
  "kernelspec": {
   "display_name": "Python 3 (ipykernel)",
   "language": "python",
   "name": "python3"
  },
  "language_info": {
   "codemirror_mode": {
    "name": "ipython",
    "version": 3
   },
   "file_extension": ".py",
   "mimetype": "text/x-python",
   "name": "python",
   "nbconvert_exporter": "python",
   "pygments_lexer": "ipython3",
   "version": "3.12.8"
  }
 },
 "nbformat": 4,
 "nbformat_minor": 5
}
