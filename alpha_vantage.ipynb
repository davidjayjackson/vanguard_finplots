{
 "cells": [
  {
   "cell_type": "raw",
   "id": "9dd8f440-9dda-4085-9c91-3c7adfbccf9e",
   "metadata": {},
   "source": [
    "---\n",
    "title: \"Stock Analysis\"\n",
    "format: html\n",
    "toc: true\n",
    "echo: false\n",
    "jupyter: python3\n",
    "---"
   ]
  },
  {
   "cell_type": "code",
   "execution_count": null,
   "id": "67cb85f4-7af1-4bf1-b198-76918097e078",
   "metadata": {},
   "outputs": [],
   "source": [
    "import pandas as pd\n",
    "import matplotlib.pyplot as plt\n",
    "import seaborn as sns\n",
    "from alpha_vantage.timeseries import TimeSeries\n",
    "import finplot as fplt\n",
    "# Step 1: Set your API key\n",
    "api_key = '35RWNNYNVVW23JS1'  # Replace with your actual API key"
   ]
  },
  {
   "cell_type": "markdown",
   "id": "b6373ba3-7210-4657-afde-c7f4f0668964",
   "metadata": {},
   "source": [
    "# Energy Transfer (ET)"
   ]
  },
  {
   "cell_type": "code",
   "execution_count": null,
   "id": "185513bf-fed1-433e-88c5-b5e4806f1507",
   "metadata": {},
   "outputs": [],
   "source": [
    "# Step 2: Create a TimeSeries object\n",
    "ts = TimeSeries(key=api_key, output_format='pandas')\n",
    "\n",
    "# Step 3: Fetch daily historical data\n",
    "data, meta_data = ts.get_daily(symbol='ET', outputsize='compact')\n",
    "\n",
    "# Step 4: Rename columns\n",
    "data.columns = ['Open', 'High', 'Low', 'Close', 'Volume']\n",
    "\n",
    "# Step 5: Reset index so that Date is a column\n",
    "data = data.reset_index()\n",
    "data = data.rename(columns={'date': 'Date'})\n",
    "\n",
    "# Step 6: Sort by date ascending\n",
    "data = data.sort_values(by='Date')\n",
    "\n",
    "# Step 7: Calculate 100-day moving average of the Close price\n",
    "# data['MA_100d'] = data['Close'].rolling(window=100).mean()\n",
    "# compact = data.query('Date >\"2024-12-31\"')\n",
    "# Step 8: Preview the DataFrame\n",
    "# print(compact[['Date', 'Close', 'MA_100d']].tail())\n",
    "\n",
    "\n",
    "\n"
   ]
  },
  {
   "cell_type": "code",
   "execution_count": null,
   "id": "9b132478-f28b-4d30-a61b-2001c9eb3c58",
   "metadata": {},
   "outputs": [],
   "source": [
    "\n",
    "# sns.lineplot(x='Date',y='Close', data=compact)\n",
    "# sns.lineplot(x='Date',y='MA_100d', data=compact)\n",
    "# plt.title(\"Energy Transfer (ET)\")\n",
    "# plt.grid()\n",
    "# plt.show"
   ]
  },
  {
   "cell_type": "code",
   "execution_count": null,
   "id": "0a141b81-2852-43df-ab64-c1be48855822",
   "metadata": {},
   "outputs": [],
   "source": [
    "# Create a candlestick plot (optional if you only have OHLC or Close)\n",
    "fplt.candlestick_ochl(data[['Open', 'Close', 'High', 'Low']])\n",
    "\n",
    "# Plot the 100-day moving average\n",
    "# fplt.plot(data['MA_100d'], color='#00f', legend='100-Day MA')\n",
    "\n",
    "# Set plot title and show\n",
    "fplt.show()"
   ]
  },
  {
   "cell_type": "code",
   "execution_count": null,
   "id": "afdf4a65-3775-4745-98b7-a963b7e8728c",
   "metadata": {},
   "outputs": [],
   "source": [
    "# Ensure Date is datetime and set as index\n",
    "# data['Date'] = pd.to_datetime(data['Date'])\n",
    "# data = data.set_index('Date')\n",
    "\n",
    "# Calculate Bollinger Bands\n",
    "period = 20\n",
    "data['MA20'] = data['Close'].rolling(period).mean()\n",
    "data['STD20'] = data['Close'].rolling(period).std()\n",
    "data['Upper'] = data['MA20'] + 2 * data['STD20']\n",
    "data['Lower'] = data['MA20'] - 2 * data['STD20']\n",
    "\n",
    "# Create the plot window (just one return value now)\n",
    "plot = fplt.create_plot('ET with Bollinger Bands')\n",
    "\n",
    "# Candlesticks\n",
    "fplt.candlestick_ochl(data[['Open', 'Close', 'High', 'Low']], ax=plot)\n",
    "\n",
    "# Bollinger Bands\n",
    "fplt.plot(data['Upper'], ax=plot, color='#FFA500', legend='Upper Band')\n",
    "fplt.plot(data['MA20'], ax=plot, color='#0000FF', legend='20-Day MA')\n",
    "fplt.plot(data['Lower'], ax=plot, color='#FFA500', legend='Lower Band')\n",
    "\n",
    "# Show the plot\n",
    "fplt.show()\n"
   ]
  },
  {
   "cell_type": "markdown",
   "id": "be300435-2fcd-4492-a9c8-d4b465cdd75d",
   "metadata": {},
   "source": [
    "# Vanguard Total Bond Market ETF (35%)\t\t\t"
   ]
  },
  {
   "cell_type": "code",
   "execution_count": null,
   "id": "6002f489-227d-49fb-af44-8f2872c14125",
   "metadata": {},
   "outputs": [],
   "source": [
    "# Step 2: Create a TimeSeries object\n",
    "# ts = TimeSeries(key=api_key, output_format='pandas')\n",
    "\n",
    "# Step 3: Fetch daily historical data\n",
    "BND, meta_data = ts.get_daily(symbol='BND', outputsize='compact')\n",
    "\n",
    "# Step 4: Rename columns\n",
    "BND.columns = ['Open', 'High', 'Low', 'Close', 'Volume']\n",
    "\n",
    "# Step 5: Reset index so that Date is a column\n",
    "BND = BND.reset_index()\n",
    "BND = BND.rename(columns={'date': 'Date'})\n",
    "\n",
    "# Step 6: Sort by date ascending\n",
    "BND = BND.sort_values(by='Date')\n"
   ]
  },
  {
   "cell_type": "code",
   "execution_count": null,
   "id": "8fab6254-7378-4c12-8b82-8904eebf44bf",
   "metadata": {},
   "outputs": [],
   "source": [
    "# Create a candlestick plot (optional if you only have OHLC or Close)\n",
    "fplt.candlestick_ochl(BND[['Open', 'Close', 'High', 'Low']])\n",
    "\n",
    "# Plot the 100-day moving average\n",
    "# fplt.plot(data['MA_100d'], color='#00f', legend='100-Day MA')\n",
    "\n",
    "# Set plot title and show\n",
    "fplt.show()"
   ]
  },
  {
   "cell_type": "code",
   "execution_count": null,
   "id": "589ce787-906a-4aa0-bd5d-eca7b16b43de",
   "metadata": {},
   "outputs": [],
   "source": [
    "# Calculate Bollinger Bands\n",
    "period = 20\n",
    "BND['MA20'] = BND['Close'].rolling(period).mean()\n",
    "BND['STD20'] = BND['Close'].rolling(period).std()\n",
    "BND['Upper'] = BND['MA20'] + 2 * data['STD20']\n",
    "BND['Lower'] = BND['MA20'] - 2 * data['STD20']\n",
    "\n",
    "# Create the plot window (just one return value now)\n",
    "plot = fplt.create_plot('ET with Bollinger Bands')\n",
    "\n",
    "# Candlesticks\n",
    "fplt.candlestick_ochl(BND[['Open', 'Close', 'High', 'Low']], ax=plot)\n",
    "\n",
    "# Bollinger Bands\n",
    "fplt.plot(BND['Upper'], ax=plot, color='#FFA500', legend='Upper Band')\n",
    "fplt.plot(BND['MA20'], ax=plot, color='#0000FF', legend='20-Day MA')\n",
    "fplt.plot(BND['Lower'], ax=plot, color='#FFA500', legend='Lower Band')\n",
    "\n",
    "# Show the plot\n",
    "fplt.show()\n"
   ]
  },
  {
   "cell_type": "markdown",
   "id": "18341c24-add6-49e5-992a-296d1f333198",
   "metadata": {},
   "source": [
    "# Vanguard Total Stock Market (VTI) ETF (28%)"
   ]
  },
  {
   "cell_type": "code",
   "execution_count": null,
   "id": "5ab7ac09-3b05-4353-ae41-9eae38cf60b9",
   "metadata": {},
   "outputs": [],
   "source": [
    "# Step 2: Create a TimeSeries object\n",
    "ts = TimeSeries(key=api_key, output_format='pandas')\n",
    "\n",
    "# Step 3: Fetch daily historical data\n",
    "VTI, meta_data = ts.get_daily(symbol='VTI', outputsize='compact')\n",
    "\n",
    "# Step 4: Rename columns\n",
    "VTI.columns = ['Open', 'High', 'Low', 'Close', 'Volume']\n",
    "\n",
    "# Step 5: Reset index so that Date is a column\n",
    "VTI = VTI.reset_index()\n",
    "VTI = VTI.rename(columns={'date': 'Date'})\n",
    "\n",
    "# Step 6: Sort by date ascending\n",
    "VTI = VTI.sort_values(by='Date')\n",
    "\n",
    "# Step 7: Calculate 100-day moving average of the Close price\n",
    "VTI['MA_60d'] = VTI['Close'].rolling(window=60).mean()\n",
    "# compact = data.query('Date >\"2024-12-31\"')\n",
    "# Step 8: Preview the DataFrame\n",
    "# print(compact[['Date', 'Close', 'MA_100d']].tail())\n"
   ]
  },
  {
   "cell_type": "code",
   "execution_count": null,
   "id": "969007fc-fdb5-47fb-80c4-b03f76c0b85a",
   "metadata": {},
   "outputs": [],
   "source": [
    "# Create a candlestick plot (optional if you only have OHLC or Close)\n",
    "fplt.candlestick_ochl(VTI[['Open', 'Close', 'High', 'Low']])\n",
    "\n",
    "# Plot the 100-day moving average\n",
    "fplt.plot(VT['MA_60d'], color='#00f', legend='60-Day MA')\n",
    "\n",
    "# Set plot title and show\n",
    "fplt.show()"
   ]
  },
  {
   "cell_type": "code",
   "execution_count": null,
   "id": "8d1fc05c-e089-45f4-8b13-dcb7a8b11616",
   "metadata": {},
   "outputs": [],
   "source": [
    "# Create a candlestick plot (optional if you only have OHLC or Close)\n",
    "fplt.candlestick_ochl(VTI[['Open', 'Close', 'High', 'Low']])\n",
    "\n",
    "# Plot the 100-day moving average\n",
    "fplt.plot(VTI['MA_60d'], color='#00f', legend='60-Day MA')\n",
    "\n",
    "# Set plot title and show\n",
    "fplt.show()"
   ]
  },
  {
   "cell_type": "code",
   "execution_count": null,
   "id": "18545df2-38b8-4aa8-b92a-eb3d3dedca20",
   "metadata": {},
   "outputs": [],
   "source": [
    "# Create a candlestick plot (optional if you only have OHLC or Close)\n",
    "fplt.candlestick_ochl(VTI[['Open', 'Close', 'High', 'Low']])\n",
    "\n",
    "# Plot the 100-day moving average\n",
    "fplt.plot(VTI['MA_60d'], color='#00f', legend='60-Day MA')\n",
    "\n",
    "# Set plot title and show\n",
    "fplt.show()"
   ]
  },
  {
   "cell_type": "code",
   "execution_count": null,
   "id": "d78f317e-3787-4850-8773-0d785200abbb",
   "metadata": {},
   "outputs": [],
   "source": [
    "# Calculate Bollinger Bands\n",
    "period = 20\n",
    "VTI['MA20'] = VTI['Close'].rolling(period).mean()\n",
    "VTI['STD20'] = VTI['Close'].rolling(period).std()\n",
    "VTI['Upper'] = VTI['MA20'] + 2 * VTI['STD20']\n",
    "VTI['Lower'] = VTI['MA20'] - 2 * VTI['STD20']\n",
    "\n",
    "# Create the plot window (just one return value now)\n",
    "plot = fplt.create_plot('VTI with Bollinger Bands')\n",
    "\n",
    "# Candlesticks\n",
    "fplt.candlestick_ochl(VTI[['Open', 'Close', 'High', 'Low']], ax=plot)\n",
    "\n",
    "# Bollinger Bands\n",
    "fplt.plot(VTI['Upper'], ax=plot, color='#FFA500', legend='Upper Band')\n",
    "fplt.plot(VTI['MA20'], ax=plot, color='#0000FF', legend='20-Day MA')\n",
    "fplt.plot(VTI['Lower'], ax=plot, color='#FFA500', legend='Lower Band')\n",
    "\n",
    "# Show the plot\n",
    "fplt.show()\n"
   ]
  },
  {
   "cell_type": "markdown",
   "id": "6a97e00b-1921-487e-a618-90aa0228f34b",
   "metadata": {},
   "source": [
    "# Vanguard Total International Stock (VXUS) ETF (19%)"
   ]
  },
  {
   "cell_type": "code",
   "execution_count": null,
   "id": "856d85d7-7a7e-487d-9536-603a98b5b75b",
   "metadata": {},
   "outputs": [],
   "source": [
    "# Step 2: Create a TimeSeries object\n",
    "ts = TimeSeries(key=api_key, output_format='pandas')\n",
    "\n",
    "# Step 3: Fetch daily historical data\n",
    "VXUS, meta_data = ts.get_daily(symbol='VXUS', outputsize='compact')\n",
    "\n",
    "# Step 4: Rename columns\n",
    "VXUS.columns = ['Open', 'High', 'Low', 'Close', 'Volume']\n",
    "\n",
    "# Step 5: Reset index so that Date is a column\n",
    "VXUS = VXUS.reset_index()\n",
    "VXUS = VXUS.rename(columns={'date': 'Date'})\n",
    "\n",
    "# Step 6: Sort by date ascending\n",
    "VXUS = VXUS.sort_values(by='Date')\n",
    "\n",
    "# Step 7: Calculate 100-day moving average of the Close price\n",
    "VXUS['MA_60d'] = VXUS['Close'].rolling(window=60).mean()\n",
    "# compact = data.query('Date >\"2024-12-31\"')\n",
    "# Step 8: Preview the DataFrame\n",
    "# print(compact[['Date', 'Close', 'MA_100d']].tail())\n"
   ]
  },
  {
   "cell_type": "code",
   "execution_count": null,
   "id": "8925eb5b-866e-4c72-866c-1d850786afe9",
   "metadata": {},
   "outputs": [],
   "source": [
    "# Create a candlestick plot (optional if you only have OHLC or Close)\n",
    "fplt.candlestick_ochl(VXUS[['Open', 'Close', 'High', 'Low']])\n",
    "\n",
    "# Plot the 100-day moving average\n",
    "fplt.plot(VXUS['MA_60d'], color='#00f', legend='60-Day MA')\n",
    "\n",
    "# Set plot title and show\n",
    "fplt.show()"
   ]
  },
  {
   "cell_type": "code",
   "execution_count": null,
   "id": "fad399bb-de3b-4ab7-b828-41d48a36135b",
   "metadata": {},
   "outputs": [],
   "source": [
    "# Calculate Bollinger Bands\n",
    "period = 20\n",
    "VXUS['MA20'] = VXUS['Close'].rolling(period).mean()\n",
    "VXUS['STD20'] = VXUS['Close'].rolling(period).std()\n",
    "VXUS['Upper'] = VXUS['MA20'] + 2 * VXUS['STD20']\n",
    "VXUS['Lower'] = VXUS['MA20'] - 2 * VXUS['STD20']\n",
    "\n",
    "# Create the plot window (just one return value now)\n",
    "plot = fplt.create_plot('VXUS with Bollinger Bands')\n",
    "\n",
    "# Candlesticks\n",
    "fplt.candlestick_ochl(VXUS[['Open', 'Close', 'High', 'Low']], ax=plot)\n",
    "\n",
    "# Bollinger Bands\n",
    "fplt.plot(VXUS['Upper'], ax=plot, color='#FFA500', legend='Upper Band')\n",
    "fplt.plot(VXUS['MA20'], ax=plot, color='#0000FF', legend='20-Day MA')\n",
    "fplt.plot(VXUS['Lower'], ax=plot, color='#FFA500', legend='Lower Band')\n",
    "\n",
    "# Show the plot\n",
    "fplt.show()\n"
   ]
  },
  {
   "cell_type": "markdown",
   "id": "c5b228c1-6201-4754-839a-fdc68a83e52e",
   "metadata": {},
   "source": [
    "# Vanguard Total International Bond (BNDX) ETF (16%)"
   ]
  },
  {
   "cell_type": "code",
   "execution_count": 14,
   "id": "49c82b29-0fde-4f6a-9857-c92cd0241a5a",
   "metadata": {},
   "outputs": [],
   "source": [
    "# Step 2: Create a TimeSeries object\n",
    "ts = TimeSeries(key=api_key, output_format='pandas')\n",
    "\n",
    "# Step 3: Fetch daily historical data\n",
    "BNDX, meta_data = ts.get_daily(symbol='BNDX', outputsize='compact')\n",
    "\n",
    "# Step 4: Rename columns\n",
    "BNDX.columns = ['Open', 'High', 'Low', 'Close', 'Volume']\n",
    "\n",
    "# Step 5: Reset index so that Date is a column\n",
    "BNDX = VXUS.reset_index()\n",
    "BNDX = VXUS.rename(columns={'date': 'Date'})\n",
    "\n",
    "# Step 6: Sort by date ascending\n",
    "BNDX = BNDX.sort_values(by='Date',ascending=True)\n",
    "\n",
    "# Step 7: Calculate 100-day moving average of the Close price\n",
    "BNDX['MA_60d'] = BNDX['Close'].rolling(window=60).mean()\n",
    "# compact = data.query('Date >\"2024-12-31\"')\n",
    "# Step 8: Preview the DataFrame\n",
    "# print(compact[['Date', 'Close', 'MA_100d']].tail())\n"
   ]
  },
  {
   "cell_type": "code",
   "execution_count": 15,
   "id": "a3b2767e-8e19-4f75-a563-e9319532ed3d",
   "metadata": {},
   "outputs": [
    {
     "name": "stdout",
     "output_type": "stream",
     "text": [
      "WARNING: input data source has time in descending order. Try sort_values() before calling.\n",
      "WARNING: input data source has time in descending order. Try sort_values() before calling.\n"
     ]
    }
   ],
   "source": [
    "# Create a candlestick plot (optional if you only have OHLC or Close)\n",
    "fplt.candlestick_ochl(BNDX[['Open', 'Close', 'High', 'Low']])\n",
    "\n",
    "# Plot the 100-day moving average\n",
    "fplt.plot(BNDX['MA_60d'], color='#00f', legend='60-Day MA')\n",
    "\n",
    "# Set plot title and show\n",
    "fplt.show()"
   ]
  },
  {
   "cell_type": "code",
   "execution_count": null,
   "id": "5b5c70d2-50b2-408a-8ebb-29d7a1a995c2",
   "metadata": {},
   "outputs": [],
   "source": [
    "# Calculate Bollinger Bands\n",
    "period = 20\n",
    "BNDX['MA20'] = BNDX['Close'].rolling(period).mean()\n",
    "BNDX['STD20'] = BNDX['Close'].rolling(period).std()\n",
    "BNDX['Upper'] = BNDX['MA20'] + 2 * VXUS['STD20']\n",
    "BNDX['Lower'] = BNDX['MA20'] - 2 * VXUS['STD20']\n",
    "\n",
    "# Create the plot window (just one return value now)\n",
    "plot = fplt.create_plot('BNDX with Bollinger Bands')\n",
    "\n",
    "# Candlesticks\n",
    "fplt.candlestick_ochl(BNDX[['Open', 'Close', 'High', 'Low']], ax=plot)\n",
    "\n",
    "# Bollinger Bands\n",
    "fplt.plot(BNDX ['Upper'], ax=plot, color='#FFA500', legend='Upper Band')\n",
    "fplt.plot(BNDX['MA20'], ax=plot, color='#0000FF', legend='20-Day MA')\n",
    "fplt.plot(BNDX['Lower'], ax=plot, color='#FFA500', legend='Lower Band')\n",
    "\n",
    "# Show the plot\n",
    "fplt.show()\n"
   ]
  },
  {
   "cell_type": "code",
   "execution_count": null,
   "id": "6eda329c-19a0-49dd-a6d9-4b41a8c92b54",
   "metadata": {},
   "outputs": [],
   "source": []
  }
 ],
 "metadata": {
  "kernelspec": {
   "display_name": "Python 3 (ipykernel)",
   "language": "python",
   "name": "python3"
  },
  "language_info": {
   "codemirror_mode": {
    "name": "ipython",
    "version": 3
   },
   "file_extension": ".py",
   "mimetype": "text/x-python",
   "name": "python",
   "nbconvert_exporter": "python",
   "pygments_lexer": "ipython3",
   "version": "3.13.2"
  }
 },
 "nbformat": 4,
 "nbformat_minor": 5
}
